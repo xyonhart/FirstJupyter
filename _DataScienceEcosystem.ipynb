{
 "cells": [
  {
   "cell_type": "markdown",
   "id": "7b3850f7-eb2a-45bf-9495-9934874531fb",
   "metadata": {},
   "source": [
    "# Data Science Tools and Ecosystem"
   ]
  },
  {
   "cell_type": "markdown",
   "id": "e25d0aae-fc48-4fcf-8bb7-3ce0cff5b94a",
   "metadata": {},
   "source": [
    "In this notebook, Data Science Tools and Ecosystem are summarized."
   ]
  },
  {
   "cell_type": "markdown",
   "id": "b6cae651-c794-4de0-8ae6-ae823a77a865",
   "metadata": {},
   "source": [
    "**Objectives**:\n",
    "\n",
    "+ List popular languages in Data Science\n",
    "+ List common libraries in Data Science\n",
    "+ Create an example table\n",
    "+ Coding mathematical operations"
   ]
  },
  {
   "cell_type": "markdown",
   "id": "b6070a65-38f6-46bc-81ab-bae3b70613f9",
   "metadata": {},
   "source": [
    "## Some of the popular languages that Data Scientists use are:\n",
    "\n",
    "1. Python\n",
    "2. R\n",
    "3. Julia\n",
    "4. Scala\n",
    "5. Java"
   ]
  },
  {
   "cell_type": "markdown",
   "id": "17a593f5-dd44-46bc-bfb4-7b767de4328e",
   "metadata": {},
   "source": [
    "## Some of the commonly used libraries used by Data Scientists include:\n",
    "\n",
    "1. Pandas\n",
    "2. Numpy\n",
    "3. Matplotlib\n",
    "4. ggplot\n",
    "5. caret\n"
   ]
  },
  {
   "cell_type": "markdown",
   "id": "1a673a72-ba06-495d-b5b2-c2dafae7a558",
   "metadata": {},
   "source": [
    "|Data Science Tools|\n",
    "|----|\n",
    "|Jupyter|\n",
    "|RStudio|\n",
    "|Anaconda|"
   ]
  },
  {
   "cell_type": "markdown",
   "id": "330cfe2a-33e0-4c51-89f1-1bf16b2439d8",
   "metadata": {},
   "source": [
    "### Below are a few examples of evaluating arithmetic expressions in Python"
   ]
  },
  {
   "cell_type": "code",
   "execution_count": 3,
   "id": "de071fb0-b378-4497-98bb-f78a3b33ebb1",
   "metadata": {},
   "outputs": [
    {
     "data": {
      "text/plain": [
       "17"
      ]
     },
     "execution_count": 3,
     "metadata": {},
     "output_type": "execute_result"
    }
   ],
   "source": [
    "#This a simple operation to mutiply and add integers\n",
    "(3*4)+5"
   ]
  },
  {
   "cell_type": "code",
   "execution_count": 4,
   "id": "6dd2aabe-7aa3-43db-a21e-a2c9335c049c",
   "metadata": {},
   "outputs": [
    {
     "data": {
      "text/plain": [
       "3.3333333333333335"
      ]
     },
     "execution_count": 4,
     "metadata": {},
     "output_type": "execute_result"
    }
   ],
   "source": [
    "# This code converts 200 minutes to hours by diving by 60\n",
    "200/60\n"
   ]
  },
  {
   "cell_type": "markdown",
   "id": "dd05ff2e-4c4d-4b22-86c5-ddd1c4a1c63c",
   "metadata": {},
   "source": [
    "## Author\n",
    "\n",
    "Sergio Díaz Suárez"
   ]
  },
  {
   "cell_type": "code",
   "execution_count": null,
   "id": "32501181-81ff-4903-aecd-f8c6acddbb3e",
   "metadata": {},
   "outputs": [],
   "source": []
  }
 ],
 "metadata": {
  "kernelspec": {
   "display_name": "Python 3 (ipykernel)",
   "language": "python",
   "name": "python3"
  },
  "language_info": {
   "codemirror_mode": {
    "name": "ipython",
    "version": 3
   },
   "file_extension": ".py",
   "mimetype": "text/x-python",
   "name": "python",
   "nbconvert_exporter": "python",
   "pygments_lexer": "ipython3",
   "version": "3.11.8"
  }
 },
 "nbformat": 4,
 "nbformat_minor": 5
}
